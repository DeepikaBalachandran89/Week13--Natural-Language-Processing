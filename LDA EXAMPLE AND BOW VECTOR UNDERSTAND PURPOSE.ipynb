{
 "cells": [
  {
   "cell_type": "code",
   "execution_count": 1,
   "id": "3f5b0ff6-5e0f-4beb-b6db-80ae865df6cb",
   "metadata": {},
   "outputs": [
    {
     "name": "stdout",
     "output_type": "stream",
     "text": [
      "Collecting gensim\n",
      "  Downloading gensim-4.3.3-cp310-cp310-win_amd64.whl.metadata (8.2 kB)\n",
      "Requirement already satisfied: nltk in c:\\users\\lenovo\\anaconda3\\envs\\aiml\\lib\\site-packages (3.8.1)\n",
      "Requirement already satisfied: numpy<2.0,>=1.18.5 in c:\\users\\lenovo\\anaconda3\\envs\\aiml\\lib\\site-packages (from gensim) (1.26.4)\n",
      "Requirement already satisfied: scipy<1.14.0,>=1.7.0 in c:\\users\\lenovo\\anaconda3\\envs\\aiml\\lib\\site-packages (from gensim) (1.12.0)\n",
      "Collecting smart-open>=1.8.1 (from gensim)\n",
      "  Downloading smart_open-7.0.4-py3-none-any.whl.metadata (23 kB)\n",
      "Requirement already satisfied: click in c:\\users\\lenovo\\anaconda3\\envs\\aiml\\lib\\site-packages (from nltk) (8.1.7)\n",
      "Requirement already satisfied: joblib in c:\\users\\lenovo\\anaconda3\\envs\\aiml\\lib\\site-packages (from nltk) (1.3.2)\n",
      "Requirement already satisfied: regex>=2021.8.3 in c:\\users\\lenovo\\anaconda3\\envs\\aiml\\lib\\site-packages (from nltk) (2024.7.24)\n",
      "Requirement already satisfied: tqdm in c:\\users\\lenovo\\anaconda3\\envs\\aiml\\lib\\site-packages (from nltk) (4.66.4)\n",
      "Requirement already satisfied: wrapt in c:\\users\\lenovo\\anaconda3\\envs\\aiml\\lib\\site-packages (from smart-open>=1.8.1->gensim) (1.16.0)\n",
      "Requirement already satisfied: colorama in c:\\users\\lenovo\\anaconda3\\envs\\aiml\\lib\\site-packages (from click->nltk) (0.4.6)\n",
      "Downloading gensim-4.3.3-cp310-cp310-win_amd64.whl (24.0 MB)\n",
      "   ---------------------------------------- 0.0/24.0 MB ? eta -:--:--\n",
      "   ---------------------------------------- 0.0/24.0 MB ? eta -:--:--\n",
      "    --------------------------------------- 0.4/24.0 MB 5.1 MB/s eta 0:00:05\n",
      "   - -------------------------------------- 0.8/24.0 MB 6.4 MB/s eta 0:00:04\n",
      "   - -------------------------------------- 1.0/24.0 MB 5.7 MB/s eta 0:00:05\n",
      "   - -------------------------------------- 1.1/24.0 MB 5.4 MB/s eta 0:00:05\n",
      "   - -------------------------------------- 1.1/24.0 MB 5.4 MB/s eta 0:00:05\n",
      "   - -------------------------------------- 1.1/24.0 MB 5.4 MB/s eta 0:00:05\n",
      "   -- ------------------------------------- 1.5/24.0 MB 4.3 MB/s eta 0:00:06\n",
      "   -- ------------------------------------- 1.6/24.0 MB 4.0 MB/s eta 0:00:06\n",
      "   --- ------------------------------------ 2.1/24.0 MB 4.6 MB/s eta 0:00:05\n",
      "   --- ------------------------------------ 2.3/24.0 MB 4.5 MB/s eta 0:00:05\n",
      "   --- ------------------------------------ 2.3/24.0 MB 4.5 MB/s eta 0:00:05\n",
      "   --- ------------------------------------ 2.3/24.0 MB 4.5 MB/s eta 0:00:05\n",
      "   ---- ----------------------------------- 2.7/24.0 MB 4.3 MB/s eta 0:00:05\n",
      "   ----- ---------------------------------- 3.0/24.0 MB 4.4 MB/s eta 0:00:05\n",
      "   ----- ---------------------------------- 3.3/24.0 MB 4.3 MB/s eta 0:00:05\n",
      "   ----- ---------------------------------- 3.4/24.0 MB 4.3 MB/s eta 0:00:05\n",
      "   ------ --------------------------------- 3.6/24.0 MB 4.3 MB/s eta 0:00:05\n",
      "   ------ --------------------------------- 3.8/24.0 MB 4.3 MB/s eta 0:00:05\n",
      "   ------ --------------------------------- 4.0/24.0 MB 4.3 MB/s eta 0:00:05\n",
      "   ------ --------------------------------- 4.2/24.0 MB 4.2 MB/s eta 0:00:05\n",
      "   ------- -------------------------------- 4.4/24.0 MB 4.2 MB/s eta 0:00:05\n",
      "   ------- -------------------------------- 4.4/24.0 MB 4.2 MB/s eta 0:00:05\n",
      "   -------- ------------------------------- 4.8/24.0 MB 4.2 MB/s eta 0:00:05\n",
      "   -------- ------------------------------- 5.0/24.0 MB 4.2 MB/s eta 0:00:05\n",
      "   -------- ------------------------------- 5.3/24.0 MB 4.1 MB/s eta 0:00:05\n",
      "   --------- ------------------------------ 5.5/24.0 MB 4.1 MB/s eta 0:00:05\n",
      "   --------- ------------------------------ 5.7/24.0 MB 4.1 MB/s eta 0:00:05\n",
      "   --------- ------------------------------ 5.9/24.0 MB 4.1 MB/s eta 0:00:05\n",
      "   ---------- ----------------------------- 6.0/24.0 MB 4.1 MB/s eta 0:00:05\n",
      "   ---------- ----------------------------- 6.0/24.0 MB 4.1 MB/s eta 0:00:05\n",
      "   ---------- ----------------------------- 6.1/24.0 MB 3.8 MB/s eta 0:00:05\n",
      "   ---------- ----------------------------- 6.5/24.0 MB 4.0 MB/s eta 0:00:05\n",
      "   ----------- ---------------------------- 6.8/24.0 MB 4.1 MB/s eta 0:00:05\n",
      "   ----------- ---------------------------- 7.0/24.0 MB 4.1 MB/s eta 0:00:05\n",
      "   ------------ --------------------------- 7.2/24.0 MB 4.1 MB/s eta 0:00:05\n",
      "   ------------ --------------------------- 7.4/24.0 MB 4.1 MB/s eta 0:00:05\n",
      "   ------------ --------------------------- 7.7/24.0 MB 4.1 MB/s eta 0:00:05\n",
      "   ------------- -------------------------- 7.9/24.0 MB 4.1 MB/s eta 0:00:04\n",
      "   ------------- -------------------------- 8.1/24.0 MB 4.0 MB/s eta 0:00:04\n",
      "   ------------- -------------------------- 8.3/24.0 MB 4.1 MB/s eta 0:00:04\n",
      "   -------------- ------------------------- 8.5/24.0 MB 4.0 MB/s eta 0:00:04\n",
      "   -------------- ------------------------- 8.7/24.0 MB 4.0 MB/s eta 0:00:04\n",
      "   -------------- ------------------------- 8.8/24.0 MB 4.0 MB/s eta 0:00:04\n",
      "   --------------- ------------------------ 9.0/24.0 MB 4.0 MB/s eta 0:00:04\n",
      "   --------------- ------------------------ 9.2/24.0 MB 4.0 MB/s eta 0:00:04\n",
      "   --------------- ------------------------ 9.4/24.0 MB 4.0 MB/s eta 0:00:04\n",
      "   --------------- ------------------------ 9.6/24.0 MB 4.0 MB/s eta 0:00:04\n",
      "   ---------------- ----------------------- 9.7/24.0 MB 4.0 MB/s eta 0:00:04\n",
      "   ---------------- ----------------------- 9.9/24.0 MB 4.0 MB/s eta 0:00:04\n",
      "   ---------------- ----------------------- 10.1/24.0 MB 4.0 MB/s eta 0:00:04\n",
      "   ----------------- ---------------------- 10.3/24.0 MB 4.0 MB/s eta 0:00:04\n",
      "   ----------------- ---------------------- 10.5/24.0 MB 4.0 MB/s eta 0:00:04\n",
      "   ----------------- ---------------------- 10.6/24.0 MB 4.0 MB/s eta 0:00:04\n",
      "   ------------------ --------------------- 10.8/24.0 MB 3.9 MB/s eta 0:00:04\n",
      "   ------------------ --------------------- 11.0/24.0 MB 3.9 MB/s eta 0:00:04\n",
      "   ------------------ --------------------- 11.2/24.0 MB 3.9 MB/s eta 0:00:04\n",
      "   ------------------ --------------------- 11.4/24.0 MB 4.0 MB/s eta 0:00:04\n",
      "   ------------------- -------------------- 11.6/24.0 MB 4.0 MB/s eta 0:00:04\n",
      "   ------------------- -------------------- 11.7/24.0 MB 4.0 MB/s eta 0:00:04\n",
      "   ------------------- -------------------- 11.9/24.0 MB 4.0 MB/s eta 0:00:04\n",
      "   -------------------- ------------------- 12.1/24.0 MB 3.9 MB/s eta 0:00:04\n",
      "   -------------------- ------------------- 12.3/24.0 MB 3.9 MB/s eta 0:00:04\n",
      "   -------------------- ------------------- 12.5/24.0 MB 3.9 MB/s eta 0:00:03\n",
      "   --------------------- ------------------ 12.6/24.0 MB 4.0 MB/s eta 0:00:03\n",
      "   --------------------- ------------------ 12.9/24.0 MB 4.0 MB/s eta 0:00:03\n",
      "   --------------------- ------------------ 13.1/24.0 MB 3.9 MB/s eta 0:00:03\n",
      "   ---------------------- ----------------- 13.3/24.0 MB 3.9 MB/s eta 0:00:03\n",
      "   ---------------------- ----------------- 13.5/24.0 MB 3.9 MB/s eta 0:00:03\n",
      "   ---------------------- ----------------- 13.7/24.0 MB 3.9 MB/s eta 0:00:03\n",
      "   ----------------------- ---------------- 13.9/24.0 MB 3.9 MB/s eta 0:00:03\n",
      "   ----------------------- ---------------- 14.1/24.0 MB 3.9 MB/s eta 0:00:03\n",
      "   ----------------------- ---------------- 14.2/24.0 MB 3.9 MB/s eta 0:00:03\n",
      "   ------------------------ --------------- 14.4/24.0 MB 3.9 MB/s eta 0:00:03\n",
      "   ------------------------ --------------- 14.6/24.0 MB 3.9 MB/s eta 0:00:03\n",
      "   ------------------------ --------------- 14.8/24.0 MB 3.9 MB/s eta 0:00:03\n",
      "   ------------------------ --------------- 15.0/24.0 MB 3.9 MB/s eta 0:00:03\n",
      "   ------------------------- -------------- 15.2/24.0 MB 3.9 MB/s eta 0:00:03\n",
      "   ------------------------- -------------- 15.3/24.0 MB 3.9 MB/s eta 0:00:03\n",
      "   ------------------------- -------------- 15.5/24.0 MB 3.9 MB/s eta 0:00:03\n",
      "   -------------------------- ------------- 15.7/24.0 MB 3.9 MB/s eta 0:00:03\n",
      "   -------------------------- ------------- 15.9/24.0 MB 3.9 MB/s eta 0:00:03\n",
      "   -------------------------- ------------- 16.1/24.0 MB 3.9 MB/s eta 0:00:03\n",
      "   --------------------------- ------------ 16.3/24.0 MB 3.9 MB/s eta 0:00:02\n",
      "   --------------------------- ------------ 16.4/24.0 MB 4.0 MB/s eta 0:00:02\n",
      "   --------------------------- ------------ 16.6/24.0 MB 4.0 MB/s eta 0:00:02\n",
      "   ---------------------------- ----------- 16.8/24.0 MB 4.0 MB/s eta 0:00:02\n",
      "   ---------------------------- ----------- 17.0/24.0 MB 3.9 MB/s eta 0:00:02\n",
      "   ---------------------------- ----------- 17.2/24.0 MB 3.9 MB/s eta 0:00:02\n",
      "   ---------------------------- ----------- 17.4/24.0 MB 3.9 MB/s eta 0:00:02\n",
      "   ----------------------------- ---------- 17.6/24.0 MB 3.9 MB/s eta 0:00:02\n",
      "   ----------------------------- ---------- 17.8/24.0 MB 3.9 MB/s eta 0:00:02\n",
      "   ----------------------------- ---------- 17.9/24.0 MB 3.9 MB/s eta 0:00:02\n",
      "   ------------------------------ --------- 18.1/24.0 MB 3.9 MB/s eta 0:00:02\n",
      "   ------------------------------ --------- 18.3/24.0 MB 3.9 MB/s eta 0:00:02\n",
      "   ------------------------------ --------- 18.5/24.0 MB 3.9 MB/s eta 0:00:02\n",
      "   ------------------------------- -------- 18.7/24.0 MB 3.9 MB/s eta 0:00:02\n",
      "   ------------------------------- -------- 18.9/24.0 MB 3.9 MB/s eta 0:00:02\n",
      "   ------------------------------- -------- 19.0/24.0 MB 3.9 MB/s eta 0:00:02\n",
      "   ------------------------------- -------- 19.2/24.0 MB 3.9 MB/s eta 0:00:02\n",
      "   -------------------------------- ------- 19.4/24.0 MB 3.9 MB/s eta 0:00:02\n",
      "   -------------------------------- ------- 19.6/24.0 MB 3.9 MB/s eta 0:00:02\n",
      "   -------------------------------- ------- 19.8/24.0 MB 3.9 MB/s eta 0:00:02\n",
      "   --------------------------------- ------ 19.9/24.0 MB 3.9 MB/s eta 0:00:02\n",
      "   --------------------------------- ------ 20.2/24.0 MB 3.9 MB/s eta 0:00:01\n",
      "   --------------------------------- ------ 20.3/24.0 MB 3.9 MB/s eta 0:00:01\n",
      "   ---------------------------------- ----- 20.5/24.0 MB 3.9 MB/s eta 0:00:01\n",
      "   ---------------------------------- ----- 20.7/24.0 MB 3.9 MB/s eta 0:00:01\n",
      "   ---------------------------------- ----- 20.9/24.0 MB 3.9 MB/s eta 0:00:01\n",
      "   ----------------------------------- ---- 21.1/24.0 MB 3.9 MB/s eta 0:00:01\n",
      "   ----------------------------------- ---- 21.3/24.0 MB 3.9 MB/s eta 0:00:01\n",
      "   ----------------------------------- ---- 21.4/24.0 MB 3.9 MB/s eta 0:00:01\n",
      "   ------------------------------------ --- 21.6/24.0 MB 3.9 MB/s eta 0:00:01\n",
      "   ------------------------------------ --- 21.8/24.0 MB 3.9 MB/s eta 0:00:01\n",
      "   ------------------------------------ --- 22.0/24.0 MB 3.9 MB/s eta 0:00:01\n",
      "   ------------------------------------ --- 22.2/24.0 MB 3.9 MB/s eta 0:00:01\n",
      "   ------------------------------------- -- 22.3/24.0 MB 3.9 MB/s eta 0:00:01\n",
      "   ------------------------------------- -- 22.5/24.0 MB 3.9 MB/s eta 0:00:01\n",
      "   ------------------------------------- -- 22.7/24.0 MB 3.9 MB/s eta 0:00:01\n",
      "   -------------------------------------- - 22.9/24.0 MB 3.9 MB/s eta 0:00:01\n",
      "   -------------------------------------- - 23.1/24.0 MB 3.9 MB/s eta 0:00:01\n",
      "   -------------------------------------- - 23.2/24.0 MB 3.9 MB/s eta 0:00:01\n",
      "   ---------------------------------------  23.4/24.0 MB 3.9 MB/s eta 0:00:01\n",
      "   ---------------------------------------  23.6/24.0 MB 3.9 MB/s eta 0:00:01\n",
      "   ---------------------------------------  23.8/24.0 MB 3.9 MB/s eta 0:00:01\n",
      "   ---------------------------------------  24.0/24.0 MB 3.9 MB/s eta 0:00:01\n",
      "   ---------------------------------------  24.0/24.0 MB 3.9 MB/s eta 0:00:01\n",
      "   ---------------------------------------  24.0/24.0 MB 3.9 MB/s eta 0:00:01\n",
      "   ---------------------------------------- 24.0/24.0 MB 3.7 MB/s eta 0:00:00\n",
      "Downloading smart_open-7.0.4-py3-none-any.whl (61 kB)\n",
      "   ---------------------------------------- 0.0/61.2 kB ? eta -:--:--\n",
      "   ---------------------------------------- 61.2/61.2 kB 3.4 MB/s eta 0:00:00\n",
      "Installing collected packages: smart-open, gensim\n",
      "Successfully installed gensim-4.3.3 smart-open-7.0.4\n"
     ]
    }
   ],
   "source": [
    "!pip install gensim nltk"
   ]
  },
  {
   "cell_type": "code",
   "execution_count": 26,
   "id": "359b6867-34e7-43fb-b5b7-d7378a6cca81",
   "metadata": {},
   "outputs": [
    {
     "name": "stderr",
     "output_type": "stream",
     "text": [
      "[nltk_data] Downloading package punkt to\n",
      "[nltk_data]     C:\\Users\\Lenovo\\AppData\\Roaming\\nltk_data...\n",
      "[nltk_data]   Package punkt is already up-to-date!\n",
      "[nltk_data] Downloading package stopwords to\n",
      "[nltk_data]     C:\\Users\\Lenovo\\AppData\\Roaming\\nltk_data...\n",
      "[nltk_data]   Package stopwords is already up-to-date!\n"
     ]
    },
    {
     "data": {
      "text/plain": [
       "True"
      ]
     },
     "execution_count": 26,
     "metadata": {},
     "output_type": "execute_result"
    }
   ],
   "source": [
    "import pandas as pd\n",
    "import numpy as np\n",
    "import gensim\n",
    "from gensim import corpora\n",
    "from nltk.corpus import stopwords\n",
    "from nltk.tokenize import word_tokenize\n",
    "import nltk\n",
    "\n",
    "# Download NLTK resources\n",
    "nltk.download('punkt')\n",
    "nltk.download('stopwords')"
   ]
  },
  {
   "cell_type": "code",
   "execution_count": 3,
   "id": "e9309bc1-95a0-44c6-8798-00f25abf5823",
   "metadata": {},
   "outputs": [],
   "source": [
    "# Sample documents\n",
    "documents = [\n",
    "    \"Machine learning is a fascinating field.\",\n",
    "    \"Natural language processing enables computers to understand human language.\",\n",
    "    \"Deep learning is a subset of machine learning that uses neural networks.\",\n",
    "    \"Data science combines statistics and computer science to analyze data.\"\n",
    "]"
   ]
  },
  {
   "cell_type": "code",
   "execution_count": null,
   "id": "0eea88d4-8102-4e99-9de1-ef531aacce25",
   "metadata": {},
   "outputs": [],
   "source": [
    "####  Preprocess the Data"
   ]
  },
  {
   "cell_type": "code",
   "execution_count": 4,
   "id": "bbf59809-9a31-471f-b803-f67378d3518a",
   "metadata": {},
   "outputs": [],
   "source": [
    "# Define stop words\n",
    "stop_words = set(stopwords.words('english'))\n",
    "\n",
    "# Tokenization and stop word removal\n",
    "texts = [[word for word in word_tokenize(doc.lower()) if word.isalnum() and word not in stop_words] for doc in documents]"
   ]
  },
  {
   "cell_type": "code",
   "execution_count": null,
   "id": "af4a0102-40d2-4d87-8170-a1006bbe97aa",
   "metadata": {},
   "outputs": [],
   "source": [
    "#### 5. Create a Dictionary and Corpus\n"
   ]
  },
  {
   "cell_type": "code",
   "execution_count": 5,
   "id": "bfca85dd-b2c6-4f6a-a55a-af9c37864e50",
   "metadata": {},
   "outputs": [],
   "source": [
    "# Create a dictionary representation of the documents\n",
    "dictionary = corpora.Dictionary(texts)\n",
    "\n",
    "# Create a bag-of-words representation of the documents\n",
    "corpus = [dictionary.doc2bow(text) for text in texts]"
   ]
  },
  {
   "cell_type": "code",
   "execution_count": null,
   "id": "9f3e62fd-4d1f-4661-a9f4-cd5762ba083f",
   "metadata": {},
   "outputs": [],
   "source": [
    "#### 6. Build the LDA Model\n"
   ]
  },
  {
   "cell_type": "code",
   "execution_count": 6,
   "id": "ed4d3934-c77c-4c0d-b38b-2a7839f55623",
   "metadata": {},
   "outputs": [],
   "source": [
    "from gensim.models import LdaModel\n",
    "\n",
    "# Set parameters\n",
    "num_topics = 2  # Number of topics\n",
    "lda_model = LdaModel(corpus, num_topics=num_topics, id2word=dictionary, passes=10, random_state=42)"
   ]
  },
  {
   "cell_type": "code",
   "execution_count": null,
   "id": "a661a2e5-49ed-4c49-8da2-9090895014fe",
   "metadata": {},
   "outputs": [],
   "source": [
    "#### 7. View the Topics\n"
   ]
  },
  {
   "cell_type": "code",
   "execution_count": 7,
   "id": "03b521f8-36e4-4b40-98bd-f0dd517f48bd",
   "metadata": {},
   "outputs": [
    {
     "name": "stdout",
     "output_type": "stream",
     "text": [
      "Topic 0: 0.109*\"language\" + 0.065*\"computers\" + 0.065*\"enables\" + 0.065*\"human\" + 0.065*\"natural\" + 0.065*\"understand\" + 0.065*\"processing\" + 0.065*\"fascinating\" + 0.065*\"field\" + 0.064*\"machine\"\n",
      "Topic 1: 0.096*\"learning\" + 0.092*\"data\" + 0.092*\"science\" + 0.057*\"machine\" + 0.055*\"computer\" + 0.055*\"statistics\" + 0.055*\"analyze\" + 0.055*\"combines\" + 0.055*\"neural\" + 0.055*\"deep\"\n"
     ]
    }
   ],
   "source": [
    "for idx, topic in lda_model.print_topics(-1):\n",
    "    print(f\"Topic {idx}: {topic}\")"
   ]
  },
  {
   "cell_type": "code",
   "execution_count": null,
   "id": "bda39658-314b-48e8-99a8-72645bfdf17e",
   "metadata": {},
   "outputs": [],
   "source": [
    "#### 8. Assign Topics to Documents\n"
   ]
  },
  {
   "cell_type": "code",
   "execution_count": 8,
   "id": "22c08007-ce1b-485f-b1b9-636f159cb6ef",
   "metadata": {},
   "outputs": [
    {
     "name": "stdout",
     "output_type": "stream",
     "text": [
      "Document 0: [(0, 0.8525414), (1, 0.14745863)]\n",
      "Document 1: [(0, 0.9426973), (1, 0.057302687)]\n",
      "Document 2: [(0, 0.06344848), (1, 0.93655145)]\n",
      "Document 3: [(0, 0.05770945), (1, 0.9422905)]\n"
     ]
    }
   ],
   "source": [
    "# Assign topics to documents\n",
    "for i, doc in enumerate(corpus):\n",
    "    print(f\"Document {i}: {lda_model.get_document_topics(doc)}\")"
   ]
  },
  {
   "cell_type": "code",
   "execution_count": null,
   "id": "130618fb-8f83-4c5b-916d-7ee30a4f305c",
   "metadata": {},
   "outputs": [],
   "source": []
  },
  {
   "cell_type": "markdown",
   "id": "da292adb-8b1a-433c-8c23-264fc24e0b82",
   "metadata": {},
   "source": [
    "#### BOW vector"
   ]
  },
  {
   "cell_type": "markdown",
   "id": "cd1a2362-8ec0-402c-a526-7af2eb4ac286",
   "metadata": {},
   "source": [
    "The doc2bow() method from the Dictionary class has been used to convert the tokenized document into a BoW vector."
   ]
  },
  {
   "cell_type": "code",
   "execution_count": 28,
   "id": "049bae2e-bb32-4f25-87a6-b99c5f29af1b",
   "metadata": {},
   "outputs": [],
   "source": [
    "texts = [\n",
    "    [\"natural\", \"language\", \"processing\"],\n",
    "    [\"machine\", \"learning\", \"is\", \"fun\"],\n",
    "    [\"gensim\", \"is\", \"awesome\"]\n",
    "]"
   ]
  },
  {
   "cell_type": "code",
   "execution_count": 29,
   "id": "bb9c405c-8be3-4431-b535-38c18eae138f",
   "metadata": {},
   "outputs": [
    {
     "data": {
      "text/plain": [
       "<gensim.corpora.dictionary.Dictionary at 0x13f91f392a0>"
      ]
     },
     "execution_count": 29,
     "metadata": {},
     "output_type": "execute_result"
    }
   ],
   "source": [
    "corpora.Dictionary(texts)"
   ]
  },
  {
   "cell_type": "code",
   "execution_count": 30,
   "id": "6b97c842-2084-44b7-9573-2674cf7353d4",
   "metadata": {},
   "outputs": [
    {
     "data": {
      "text/plain": [
       "<module 'gensim.corpora' from 'C:\\\\Users\\\\Lenovo\\\\anaconda3\\\\envs\\\\aiml\\\\lib\\\\site-packages\\\\gensim\\\\corpora\\\\__init__.py'>"
      ]
     },
     "execution_count": 30,
     "metadata": {},
     "output_type": "execute_result"
    }
   ],
   "source": [
    "corpora"
   ]
  },
  {
   "cell_type": "code",
   "execution_count": 33,
   "id": "2438c56e-d9aa-46ef-ac72-2c9b339e7928",
   "metadata": {},
   "outputs": [
    {
     "name": "stdout",
     "output_type": "stream",
     "text": [
      "[(4, 1), (7, 1), (8, 1)]\n"
     ]
    }
   ],
   "source": [
    "# Create the dictionary\n",
    "dictionary = corpora.Dictionary(texts)\n",
    "\n",
    "# Convert the first document to a bag-of-words\n",
    "doc = texts[2]\n",
    "bow_vector = dictionary.doc2bow(doc)\n",
    "print(bow_vector)"
   ]
  },
  {
   "cell_type": "code",
   "execution_count": 18,
   "id": "13662fd8-0164-4d7f-b786-18ba9d303809",
   "metadata": {},
   "outputs": [
    {
     "data": {
      "text/plain": [
       "['natural', 'language', 'processing']"
      ]
     },
     "execution_count": 18,
     "metadata": {},
     "output_type": "execute_result"
    }
   ],
   "source": [
    "doc  #texts[0]"
   ]
  },
  {
   "cell_type": "code",
   "execution_count": 20,
   "id": "0143995c-6a7d-4eab-b672-c803d3b2401a",
   "metadata": {},
   "outputs": [
    {
     "data": {
      "text/plain": [
       "['machine', 'learning', 'is', 'fun']"
      ]
     },
     "execution_count": 20,
     "metadata": {},
     "output_type": "execute_result"
    }
   ],
   "source": [
    "doc   #texts[1]"
   ]
  },
  {
   "cell_type": "code",
   "execution_count": 34,
   "id": "17b15bf2-03ac-4bc5-84cf-db295cab74f8",
   "metadata": {},
   "outputs": [
    {
     "data": {
      "text/plain": [
       "['gensim', 'is', 'awesome']"
      ]
     },
     "execution_count": 34,
     "metadata": {},
     "output_type": "execute_result"
    }
   ],
   "source": [
    "doc    #texts[2]"
   ]
  },
  {
   "cell_type": "code",
   "execution_count": null,
   "id": "41595963-7d9f-4ed2-9ed2-88d2db6b048c",
   "metadata": {},
   "outputs": [],
   "source": []
  },
  {
   "cell_type": "code",
   "execution_count": 27,
   "id": "8be91d74-c4a5-4f33-8613-49a483cf9090",
   "metadata": {},
   "outputs": [
    {
     "name": "stdout",
     "output_type": "stream",
     "text": [
      "Topic 0: 0.131*\"i\" + 0.078*\"love\" + 0.078*\"to\" + 0.078*\"football.\" + 0.078*\"play\" + 0.078*\"watching\" + 0.078*\"enjoy\" + 0.078*\"basketball.\" + 0.027*\"football\" + 0.027*\"great\"\n",
      "Topic 1: 0.100*\"basketball\" + 0.100*\"are\" + 0.100*\"football\" + 0.060*\"sports.\" + 0.060*\"and\" + 0.060*\"popular\" + 0.060*\"sport.\" + 0.060*\"exciting.\" + 0.060*\"games\" + 0.060*\"a\"\n"
     ]
    }
   ],
   "source": [
    "from gensim import corpora\n",
    "from gensim.models import LdaModel\n",
    "\n",
    "# Sample documents\n",
    "documents = [\n",
    "    \"I love to play football.\",\n",
    "    \"Football is a great sport.\",\n",
    "    \"I enjoy watching basketball.\",\n",
    "    \"Basketball games are exciting.\",\n",
    "    \"Football and basketball are popular sports.\"\n",
    "]\n",
    "\n",
    "# Preprocessing the documents\n",
    "texts = [[word for word in doc.lower().split()] for doc in documents]\n",
    "\n",
    "# Create a dictionary representation of the documents\n",
    "dictionary = corpora.Dictionary(texts)\n",
    "\n",
    "# Create a bag-of-words corpus\n",
    "corpus = [dictionary.doc2bow(text) for text in texts]\n",
    "\n",
    "# Set the number of topics\n",
    "num_topics = 2\n",
    "\n",
    "# Create the LDA model\n",
    "lda_model = LdaModel(corpus, num_topics=num_topics, id2word=dictionary, passes=10, random_state=42)\n",
    "\n",
    "# Print the topics found by the model\n",
    "for idx, topic in lda_model.print_topics(-1):\n",
    "    print(f\"Topic {idx}: {topic}\")"
   ]
  },
  {
   "cell_type": "markdown",
   "id": "fd300b2c-4899-429e-b281-6d31de5d1768",
   "metadata": {},
   "source": [
    "#### LDA model has successfully identified two distinct topics related to football and basketball in your corpus. The first topic focuses on the personal enjoyment and engagement with these sports, while the second topic discusses them more broadly as popular sports."
   ]
  },
  {
   "cell_type": "code",
   "execution_count": null,
   "id": "32fb9c8a-cb03-4b31-8305-10ba3dde3f7f",
   "metadata": {},
   "outputs": [],
   "source": []
  }
 ],
 "metadata": {
  "kernelspec": {
   "display_name": "Python 3 (ipykernel)",
   "language": "python",
   "name": "python3"
  },
  "language_info": {
   "codemirror_mode": {
    "name": "ipython",
    "version": 3
   },
   "file_extension": ".py",
   "mimetype": "text/x-python",
   "name": "python",
   "nbconvert_exporter": "python",
   "pygments_lexer": "ipython3",
   "version": "3.10.14"
  }
 },
 "nbformat": 4,
 "nbformat_minor": 5
}
